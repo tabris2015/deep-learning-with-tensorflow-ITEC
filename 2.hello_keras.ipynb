{
 "cells": [
  {
   "cell_type": "markdown",
   "metadata": {
    "colab_type": "text",
    "id": "ZIAkIlfmCe1B"
   },
   "source": [
    "# Hello Keras\n",
    "<a href=\"https://colab.research.google.com/github/tabris2015/deep-learning-with-tensorflow-ITEC/blob/master/.ipynb\" target=\"_parent\"><img src=\"https://colab.research.google.com/assets/colab-badge.svg\" alt=\"Open In Colab\"/></a>"
   ]
  },
  {
   "cell_type": "markdown",
   "metadata": {
    "colab_type": "text",
    "id": "fA93WUy1zzWf"
   },
   "source": [
    "En este caso, iniciaremos con un ejemplo muy sencillo para mostrar el enfoque de keras.\n",
    "\n",
    "Se puede entender una red neuronal como una forma de relacionar varios numeros. Por ejemplo, si tuviéramos que definir una función, las 'reglas' son conocidas:\n",
    "\n",
    "```\n",
    "float hw_function(float x){\n",
    "    float y = (2 * x) - 1;\n",
    "    return y;\n",
    "}\n",
    "```\n",
    "\n",
    "La pregunta es, cómo logramos entrenar una red neuronal para realizar una tarea equivalente? Usando datos!. Si alimentamos una red con un conjunto de valores de X y Y, la misma debería ser capaz de \"aprender\" la relación entre tales valores."
   ]
  },
  {
   "cell_type": "markdown",
   "metadata": {
    "colab_type": "text",
    "id": "DzbtdRcZDO9B"
   },
   "source": [
    "## Módulos necesarios\n",
    "Importamos Tensorflow y numpy para ayudarnos a representar nuestros datos de manera sencilla.\n",
    "\n",
    "Usaremos keras para representar nuestro modelo como una secuencia de capas."
   ]
  },
  {
   "cell_type": "code",
   "execution_count": null,
   "metadata": {
    "colab": {},
    "colab_type": "code",
    "id": "X9uIpOS2zx7k"
   },
   "outputs": [],
   "source": [
    "import tensorflow as tf\n",
    "import numpy as np\n",
    "from tensorflow import keras"
   ]
  },
  {
   "cell_type": "markdown",
   "metadata": {
    "colab_type": "text",
    "id": "wwJGmDrQ0EoB"
   },
   "source": [
    "## Definir y compilar la red neuronal\n",
    "\n",
    "Vamos a crear la red neuronal más simple posible. Posee 1 capa, la capa tiene 1 neurona y los valores de entrada tienen dimensión 1."
   ]
  },
  {
   "cell_type": "code",
   "execution_count": null,
   "metadata": {
    "colab": {},
    "colab_type": "code",
    "id": "kQFAr_xo0M4T"
   },
   "outputs": [],
   "source": [
    "model = tf.keras.Sequential([keras.layers.Dense(units=1, input_shape=[1])])"
   ]
  },
  {
   "cell_type": "markdown",
   "metadata": {
    "colab_type": "text",
    "id": "KhjZjZ-c0Ok9"
   },
   "source": [
    "Para compilar nuestra red, debemos especificar 2 funciones, una función de costo o pérdida y un optimizador.\n",
    "\n",
    "Es posible definir estas funciones de manera manual, pero Keras encapsula estas funcionalidades para nosotros con algoritmos y valores usados en la industria y considerados \"estado del arte\".\n",
    "\n",
    "En este ejemplo, nosotros sabemos que la relación entre los números es $y = 2x - 1$ \n",
    "\n",
    "Cuando la red está intentando \"aprender\" dicha relación, realiza predicciones como intentando adivinar. La **función de costo** compara las predicciones contra las respuestas correctas y mide qué tan buena o cercana fue la predicción al valor correcto.\n",
    "\n",
    "Luego, se usa el **optimizador** para intentar disminuir el valor del costo. El optimizador intentará acercarse a la respuesta correcta en base al valor del costo.\n",
    "\n",
    "Este proceso se repetirá por un número de **épocas** determinadas. En este ejemplo, se usará el error cuadrático medio o MSE para el costo y el descenso de gradiente estocástico o SGD para el optimizador."
   ]
  },
  {
   "cell_type": "code",
   "execution_count": null,
   "metadata": {
    "colab": {},
    "colab_type": "code",
    "id": "m8YQN1H41L-Y"
   },
   "outputs": [],
   "source": [
    "model.compile(optimizer='sgd', loss='mean_squared_error')"
   ]
  },
  {
   "cell_type": "markdown",
   "metadata": {
    "colab_type": "text",
    "id": "5QyOUhFw1OUX"
   },
   "source": [
    "## Obteniendo los datos\n",
    "\n",
    "Seguidamente, obtendremos algo de datos. En este caso, 6 valores de X y 6 valores de Y. Se puede observar que la relación entre las variables está dada por $y = 2x - 1$, así que cuando $x = -1$, $y = -3$.\n",
    "\n",
    "En este caso, usaremos arrays de numpy para definir estos arreglos de datos."
   ]
  },
  {
   "cell_type": "code",
   "execution_count": null,
   "metadata": {
    "colab": {},
    "colab_type": "code",
    "id": "4Dxk4q-jzEy4"
   },
   "outputs": [],
   "source": [
    "xs = np.array([-1.0,  0.0, 1.0, 2.0, 3.0, 4.0], dtype=float)\n",
    "ys = np.array([-3.0, -1.0, 1.0, 3.0, 5.0, 7.0], dtype=float)"
   ]
  },
  {
   "cell_type": "markdown",
   "metadata": {
    "colab_type": "text",
    "id": "n_YcWRElnM_b"
   },
   "source": [
    "# Entrenando la red neuronal"
   ]
  },
  {
   "cell_type": "markdown",
   "metadata": {
    "colab_type": "text",
    "id": "c-Jk4dG91dvD"
   },
   "source": [
    "El proceso de entrenamiento es donde la red \"aprende\" la relación entre X y Y. En keras, una vez definido y compilado el modelo se usa el método **model.fit** para realizar dicho entrenamiento.\n",
    "\n",
    "En este entrenamiento se implementa el bucle mencionado anteriormente: predicción -> costo -> optimizador\n",
    "\n",
    "Este bucle se repetirá por el número de épocas especificado.\n"
   ]
  },
  {
   "cell_type": "code",
   "execution_count": null,
   "metadata": {
    "colab": {},
    "colab_type": "code",
    "id": "lpRrl7WK10Pq",
    "tags": [
     "outputPrepend"
    ]
   },
   "outputs": [],
   "source": [
    "model.fit(xs, ys, epochs=500)"
   ]
  },
  {
   "cell_type": "markdown",
   "metadata": {
    "colab_type": "text",
    "id": "kaFIr71H2OZ-"
   },
   "source": [
    "Perfecto! ya tenemos un modelo entrenado para aprender la relación entre X y Y. Ahora podemos usar **model.predict** para realizar predicciones en valores nunca vistos de X. por ejemplo, 10:"
   ]
  },
  {
   "cell_type": "code",
   "execution_count": null,
   "metadata": {
    "colab": {},
    "colab_type": "code",
    "id": "oxNzL4lS2Gui",
    "tags": []
   },
   "outputs": [],
   "source": [
    "print(model.predict([10.0]))"
   ]
  },
  {
   "cell_type": "markdown",
   "metadata": {
    "colab_type": "text",
    "id": "btF2CSFH2iEX"
   },
   "source": [
    "\n"
   ]
  }
 ],
 "metadata": {
  "colab": {
   "include_colab_link": true,
   "name": "Course 1 - Part 2 - Lesson 2 - Notebook.ipynb",
   "provenance": [],
   "toc_visible": true
  },
  "kernelspec": {
   "name": "python3",
   "language": "python",
   "display_name": "Python 3"
  }
 },
 "nbformat": 4,
 "nbformat_minor": 0
}