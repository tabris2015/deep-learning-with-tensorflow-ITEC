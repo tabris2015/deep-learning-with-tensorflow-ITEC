{
 "cells": [
  {
   "cell_type": "markdown",
   "metadata": {},
   "source": [
    "# Tutorial de Keras\n",
    "\n",
    "Keras es una API de alto nivel para definir y entrenar modelos de redes neuronales totalmente compatible con tensorflow. Viene incluido dentro de tensorflow como el módulo **tf.keras**. \n",
    "\n",
    "Keras abstrae el diseño de una red neuronal a partir de las capas que la componen. Toda la mecánica de descenso de gradiente, retropropagación y optimizadores se maneja internamente, por lo que el desarrollador solamente debe preocuparse por definir bien la arquitectura y los hiperparámetros.\n"
   ]
  },
  {
   "cell_type": "markdown",
   "metadata": {},
   "source": [
    "## Clasificador de imágenes usando Keras\n",
    "\n",
    "En este notebook, se construirá una red neuronal feed forward densamente conectada para clasificar datos de dígitos manuscritos.\n",
    "\n",
    "El dataset usado es el MNIST, un dataset bastante conocido en el mundo de la clasificación de imágenes y es considerado como el hola mundo de las redes neuronales para visión artificial.\n"
   ]
  },
  {
   "cell_type": "code",
   "execution_count": 13,
   "metadata": {},
   "outputs": [
    {
     "output_type": "stream",
     "name": "stdout",
     "text": "entrenamiento: (60000, 28, 28)\npruebas: (10000, 28, 28)\n"
    }
   ],
   "source": [
    "# importar el modulo de tensorflow (tensorflow >= 2.0)\n",
    "import tensorflow as tf\n",
    "\n",
    "# importar el dataset\n",
    "mnist = tf.keras.datasets.mnist\n",
    "\n",
    "# extraer el dataset en tensores\n",
    "(x_train, y_train), (x_test, y_test) = mnist.load_data()\n",
    "x_train, x_test = x_train / 255.0, x_test / 255.0\n",
    "print(f'entrenamiento: {x_train.shape}')\n",
    "print(f'pruebas: {x_test.shape}')\n"
   ]
  },
  {
   "cell_type": "markdown",
   "metadata": {},
   "source": [
    "## Modelo Secuencial (Sequential)\n",
    "\n",
    "En Keras, una red neuronal feed-forward se define usando el modelo secuencial. En este modelo, se asume que las capas de la red neuronal vienen una después de otra y se van apilando a medida que se agregan nuevas capas. El modelo secuencial puede ser aplicado en una inmensidad de aplicaciones.\n",
    "\n",
    "Para construir el modelo necesitamos crear una instancia del objeto **Sequential** y agregar las distintas capas que lo componen.\n"
   ]
  },
  {
   "cell_type": "code",
   "execution_count": 14,
   "metadata": {},
   "outputs": [],
   "source": [
    "# crear el modelo y agregar las capas\n",
    "model = tf.keras.models.Sequential([                \n",
    "  tf.keras.layers.Flatten(input_shape=(28, 28)),\n",
    "  tf.keras.layers.Dense(128, activation='relu'),        # dense es una capa densamente conectada WX + b\n",
    "  tf.keras.layers.Dropout(0.2),\n",
    "  tf.keras.layers.Dense(10)\n",
    "])"
   ]
  },
  {
   "cell_type": "code",
   "execution_count": 15,
   "metadata": {},
   "outputs": [
    {
     "output_type": "execute_result",
     "data": {
      "text/plain": "array([[ 0.46586984, -0.3597898 ,  0.34318417,  0.25944442,  0.02655937,\n        -0.6195074 , -0.53194034,  0.06394144, -0.3848926 ,  0.18875027]],\n      dtype=float32)"
     },
     "metadata": {},
     "execution_count": 15
    }
   ],
   "source": [
    "# la salida de la red es una capa lineal, tambien denominados logits.\n",
    "predictions = model(x_train[:1]).numpy()\n",
    "predictions"
   ]
  },
  {
   "cell_type": "code",
   "execution_count": 19,
   "metadata": {},
   "outputs": [
    {
     "output_type": "execute_result",
     "data": {
      "text/plain": "array([[0.1577039 , 0.0690658 , 0.13949567, 0.12829007, 0.10163712,\n        0.05326833, 0.05814321, 0.10550843, 0.06735363, 0.11953386]],\n      dtype=float32)"
     },
     "metadata": {},
     "execution_count": 19
    }
   ],
   "source": [
    "# para convertir estos logits en una salida softmax aplicamos un operador de tensorflow\n",
    "tf.nn.softmax(predictions).numpy()\n",
    "# print(tf.argmax(predictions[0]))"
   ]
  },
  {
   "cell_type": "markdown",
   "metadata": {},
   "source": [
    "### Función de costo\n",
    "\n",
    "Keras nos ofrece a disposición distintos tipos de funciones de costo incorporados con los cuales podemos trabajar directamente.\n"
   ]
  },
  {
   "cell_type": "code",
   "execution_count": 20,
   "metadata": {},
   "outputs": [],
   "source": [
    "# uilizando la entropia cruzada categorica\n",
    "loss_fn = tf.keras.losses.SparseCategoricalCrossentropy(from_logits=True)"
   ]
  },
  {
   "cell_type": "code",
   "execution_count": 21,
   "metadata": {},
   "outputs": [
    {
     "output_type": "execute_result",
     "data": {
      "text/plain": "2.932413"
     },
     "metadata": {},
     "execution_count": 21
    }
   ],
   "source": [
    "# podemos hallar el costo de las predicciones\n",
    "loss_fn(y_train[:1], predictions).numpy()"
   ]
  },
  {
   "cell_type": "markdown",
   "metadata": {},
   "source": [
    "### Compilacion del modelo\n",
    "\n",
    "Una vez definida la arquitectura y función de costo se procede a *compilar* el modelo, lo cual transforma nuestro objeto en un grafo de cómputo de tensorflow.\n"
   ]
  },
  {
   "cell_type": "code",
   "execution_count": 23,
   "metadata": {},
   "outputs": [
    {
     "output_type": "stream",
     "name": "stdout",
     "text": "Model: \"sequential_1\"\n_________________________________________________________________\nLayer (type)                 Output Shape              Param #   \n=================================================================\nflatten_1 (Flatten)          (None, 784)               0         \n_________________________________________________________________\ndense_2 (Dense)              (None, 128)               100480    \n_________________________________________________________________\ndropout_1 (Dropout)          (None, 128)               0         \n_________________________________________________________________\ndense_3 (Dense)              (None, 10)                1290      \n=================================================================\nTotal params: 101,770\nTrainable params: 101,770\nNon-trainable params: 0\n_________________________________________________________________\n"
    }
   ],
   "source": [
    "model.compile(optimizer='adam',             # algoritmo optimizador (descenso de gradiente)\n",
    "              loss=loss_fn,                 # funcion de costo\n",
    "              metrics=['accuracy'])         # metricas para monitorear\n",
    "model.summary()        "
   ]
  },
  {
   "cell_type": "markdown",
   "metadata": {},
   "source": [
    "### Entrenamiento del modelo\n",
    "\n",
    "Para entrenar el modelo, una vez definida la arquitectura y los demás parámetros, simplemente se debe ejecutar el método fit sobre nuestro modelo.\n"
   ]
  },
  {
   "cell_type": "code",
   "execution_count": 24,
   "metadata": {},
   "outputs": [
    {
     "output_type": "stream",
     "name": "stdout",
     "text": "Epoch 1/5\n1875/1875 [==============================] - 4s 2ms/step - loss: 0.2973 - accuracy: 0.9140\nEpoch 2/5\n1875/1875 [==============================] - 4s 2ms/step - loss: 0.1406 - accuracy: 0.9585\nEpoch 3/5\n1875/1875 [==============================] - 4s 2ms/step - loss: 0.1055 - accuracy: 0.9690\nEpoch 4/5\n1875/1875 [==============================] - 4s 2ms/step - loss: 0.0877 - accuracy: 0.9728\nEpoch 5/5\n1875/1875 [==============================] - 4s 2ms/step - loss: 0.0728 - accuracy: 0.9771\n"
    },
    {
     "output_type": "execute_result",
     "data": {
      "text/plain": "<tensorflow.python.keras.callbacks.History at 0x7f0917e385f8>"
     },
     "metadata": {},
     "execution_count": 24
    }
   ],
   "source": [
    "model.fit(x_train, y_train, epochs=5)"
   ]
  },
  {
   "cell_type": "markdown",
   "metadata": {},
   "source": [
    "### Evaluación del modelo\n",
    "\n",
    "También existe una función implementada para evaluar el modelo sobre un conjunto de pruebas\n"
   ]
  },
  {
   "cell_type": "code",
   "execution_count": 25,
   "metadata": {},
   "outputs": [
    {
     "output_type": "stream",
     "name": "stdout",
     "text": "313/313 - 0s - loss: 0.0675 - accuracy: 0.9787\n"
    },
    {
     "output_type": "execute_result",
     "data": {
      "text/plain": "[0.06751865148544312, 0.9786999821662903]"
     },
     "metadata": {},
     "execution_count": 25
    }
   ],
   "source": [
    "model.evaluate(x_test,  y_test, verbose=2)"
   ]
  },
  {
   "cell_type": "markdown",
   "metadata": {},
   "source": [
    "El modelo ha sido entrenado alcanzando un 98% de precisión"
   ]
  }
 ],
 "metadata": {
  "language_info": {
   "codemirror_mode": {
    "name": "ipython",
    "version": 3
   },
   "file_extension": ".py",
   "mimetype": "text/x-python",
   "name": "python",
   "nbconvert_exporter": "python",
   "pygments_lexer": "ipython3",
   "version": "3.6.9-final"
  },
  "orig_nbformat": 2,
  "kernelspec": {
   "name": "python36964bitlasallevirtualenvddfa4bcbd54540a994d2267fad6077eb",
   "display_name": "Python 3.6.9 64-bit ('lasalle': virtualenv)"
  }
 },
 "nbformat": 4,
 "nbformat_minor": 2
}