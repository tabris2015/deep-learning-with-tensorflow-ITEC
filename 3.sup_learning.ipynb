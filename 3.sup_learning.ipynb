{
 "metadata": {
  "language_info": {
   "codemirror_mode": {
    "name": "ipython",
    "version": 3
   },
   "file_extension": ".py",
   "mimetype": "text/x-python",
   "name": "python",
   "nbconvert_exporter": "python",
   "pygments_lexer": "ipython3",
   "version": "3.6.9-final"
  },
  "orig_nbformat": 2,
  "kernelspec": {
   "name": "Python 3.6.9 64-bit ('tf-workshop')",
   "display_name": "Python 3.6.9 64-bit ('tf-workshop')",
   "metadata": {
    "interpreter": {
     "hash": "54c98f930adf7f56bf8f478a34adb9af0d8e994fc2bba90a19851c41a7ab1a64"
    }
   }
  }
 },
 "nbformat": 4,
 "nbformat_minor": 2,
 "cells": [
  {
   "source": [
    "# Aprendizaje supervisado con redes neuronales\n",
    "\n",
    "Dentro del mundo del machine learning, existe un tipo de tarea llamado **aprendizaje supervisado**  en el cual se cuenta con ejemplos etiquetados previamente.\n",
    "\n",
    "Dentro del aprendizaje supervisado, por su parte, tenemos tareas de regresión y clasificación.\n",
    "\n",
    "  - **Regresión** Se tiene en la salida un número real con infinitos valores posibles en un rango determinado. Algunas aplicaciones de la regresión que podemos encontrar son por ejemplo, la predicción del precio de una casa.\n",
    "  - **Clasificación** Se tiene en la salida un conjunto finito de valores posibles. En el caso de la clasificación predecimos categorias. Un ejemplo de un algoritmo de clasificación podría ser la predicción una caries dados ciertos datos de un paciente.\n",
    "\n",
    "En este notebook veremos 2 ejemplos de cada uno de estos algoritmos."
   ],
   "cell_type": "markdown",
   "metadata": {}
  },
  {
   "cell_type": "code",
   "execution_count": null,
   "metadata": {},
   "outputs": [],
   "source": [
    "import numpy as np\n",
    "import tensorflow as tf \n",
    "from sklearn.datasets import load_diabetes, load_breast_cancer\n"
   ]
  },
  {
   "source": [
    "## Regresión: Predicción de la prevalencia de diabetes en distintas etapas\n",
    "\n",
    "Desarrollaremos un modelo de predicción para un dataset que contiene información de 442 pacientes y una medida de la progresión de la enfermedad un año luego de la medición.\n",
    "\n",
    "Los campos del dataset son los siguientes:\n",
    "  \n",
    "  - edad en años\n",
    "  - sexo\n",
    "  - índice de masa corporal\n",
    "  - presión arterial promedio\n",
    "  - conteo de células T\n",
    "  - lipoproteinas de baja densidad\n",
    "  - lipoproteinas de alta densidad\n",
    "  - hormona estimulante de la tiroides\n",
    "  - lamotrigina\n",
    "  - nivel de azucar en la sangre\n",
    "\n",
    "La variable objetivo es una medida cuantitativa de progresión de la enfermedad un año después de la línea base.\n",
    "\n",
    "Nota: los 10 campos han sido previamente normalizados.\n",
    "\n",
    "Más información acerca del [dataset](https://www4.stat.ncsu.edu/~boos/var.select/diabetes.html)\n"
   ],
   "cell_type": "markdown",
   "metadata": {}
  },
  {
   "source": [
    "## Obtención del dataset\n",
    "\n",
    "Usaremos la función load_diabetes de scikit learn para importar el dataset en la memoria\n"
   ],
   "cell_type": "markdown",
   "metadata": {}
  },
  {
   "cell_type": "code",
   "execution_count": null,
   "metadata": {
    "tags": []
   },
   "outputs": [],
   "source": [
    "X, y = load_diabetes(return_X_y=True)\n",
    "print(f'X: {X.shape}, y: {y.shape}')"
   ]
  },
  {
   "source": [
    "## Definición del modelo\n"
   ],
   "cell_type": "markdown",
   "metadata": {}
  },
  {
   "cell_type": "code",
   "execution_count": null,
   "metadata": {},
   "outputs": [],
   "source": [
    "model = tf.keras.Sequential(\n",
    "    [\n",
    "        tf.keras.layers.Dense(64, input_shape=[10], activation='relu'),\n",
    "        tf.keras.layers.Dense(1)\n",
    "    ]\n",
    ")\n"
   ]
  },
  {
   "source": [
    "## Compilación del modelo\n"
   ],
   "cell_type": "markdown",
   "metadata": {}
  },
  {
   "cell_type": "code",
   "execution_count": null,
   "metadata": {},
   "outputs": [],
   "source": [
    "model.compile(optimizer='sgd', loss='mean_squared_error')"
   ]
  },
  {
   "source": [
    "## Entrenamiento de la red"
   ],
   "cell_type": "markdown",
   "metadata": {}
  },
  {
   "cell_type": "code",
   "execution_count": null,
   "metadata": {
    "tags": []
   },
   "outputs": [],
   "source": [
    "history = model.fit(X, y, epochs=20)"
   ]
  },
  {
   "cell_type": "code",
   "execution_count": null,
   "metadata": {},
   "outputs": [],
   "source": [
    "import matplotlib.pyplot as plt\n",
    "plt.plot(history.history['loss'])\n",
    "plt.show()"
   ]
  },
  {
   "source": [
    "Como se pudo observar, el flujo de trabajo es exactamente igual al del anterior ejemplo. En general, todas las tareas de aprendizaje supervisado tienen un flujo similar. En este caso, hemos logrado entrenar un algoritmo de regresión usando una red neuronal de una sola capa. "
   ],
   "cell_type": "markdown",
   "metadata": {}
  },
  {
   "source": [
    "## Clasificación: Detección de tumores malignos\n",
    "\n",
    "Para la tarea de clasificación, usaremos un dataset con datos de 569 pacientes para el diagnóstico de cáncer de mama en base a datos sobre un tumor. En este caso se cuenta con 30 campos numéricos en cada registro. Entre los campos tenemos la siguiente información:\n",
    "\n",
    "  - Radio (media de las distancias desde el centro a los puntos en el perímetro del tumor)\n",
    "  - textura (desviación estándar de valores en escala de grises)\n",
    "  - perímetro\n",
    "  - área\n",
    "  - smoothness (variación local en distancias de radios)\n",
    "  - compactness ($\\frac{perimetro^2}{area} - 1$)\n",
    "  - concavidades (severidad de porciones cóncavas del contorno)\n",
    "  - puntos cóncavos (número de porciones cóncavas del contorno)\n",
    "  - simetría\n",
    "  - dimensión fractal.\n",
    "\n",
    "Se ha calculado la media, desviación estándar y el peor (media de los 3 peores valores) de las características para cada imagen resultando en 30 campos.\n",
    "\n",
    "Se tienen 2 clases, 1 = maligno, 0 = benigno.\n",
    "\n",
    "  "
   ],
   "cell_type": "markdown",
   "metadata": {}
  },
  {
   "source": [
    "## Obtención del dataset"
   ],
   "cell_type": "markdown",
   "metadata": {}
  },
  {
   "cell_type": "code",
   "execution_count": null,
   "metadata": {
    "tags": []
   },
   "outputs": [],
   "source": [
    "X, y = load_breast_cancer(return_X_y=True)\n",
    "X = (X - np.mean(X, axis=0)) / np.std(X, axis=0)\n",
    "# y = (y - np.mean(y)) / np.std(y, axis=1)\n",
    "print(f'X: {X.shape}, y: {y.shape}')"
   ]
  },
  {
   "cell_type": "code",
   "execution_count": null,
   "metadata": {
    "tags": []
   },
   "outputs": [],
   "source": [
    "print(np.std(X, axis=0))"
   ]
  },
  {
   "source": [
    "## Definición del modelo"
   ],
   "cell_type": "markdown",
   "metadata": {}
  },
  {
   "cell_type": "code",
   "execution_count": null,
   "metadata": {},
   "outputs": [],
   "source": [
    "model = tf.keras.Sequential(\n",
    "    [\n",
    "        tf.keras.layers.Dense(64, input_shape=[30], activation='relu'),\n",
    "        tf.keras.layers.Dense(1, activation='sigmoid')\n",
    "    ]\n",
    ")"
   ]
  },
  {
   "source": [
    "## Compilación del modelo "
   ],
   "cell_type": "markdown",
   "metadata": {}
  },
  {
   "cell_type": "code",
   "execution_count": null,
   "metadata": {},
   "outputs": [],
   "source": [
    "model.compile(optimizer='sgd', loss='binary_crossentropy')"
   ]
  },
  {
   "source": [
    "## Entrenamiento"
   ],
   "cell_type": "markdown",
   "metadata": {}
  },
  {
   "cell_type": "code",
   "execution_count": null,
   "metadata": {
    "tags": []
   },
   "outputs": [],
   "source": [
    "history = model.fit(X, y, epochs=20)"
   ]
  },
  {
   "cell_type": "code",
   "execution_count": null,
   "metadata": {},
   "outputs": [],
   "source": [
    "import matplotlib.pyplot as plt\n",
    "plt.plot(history.history['loss'])\n",
    "plt.show()"
   ]
  }
 ]
}